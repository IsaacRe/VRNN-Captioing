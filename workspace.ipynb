{
 "cells": [
  {
   "cell_type": "code",
   "execution_count": 1,
   "metadata": {
    "collapsed": true
   },
   "outputs": [],
   "source": [
    "import torch\n",
    "import torch.nn as nn\n",
    "import nltk\n",
    "from PIL import Image\n",
    "from torch.autograd import Variable\n",
    "from utils.build_vocab import Vocabulary\n",
    "from model import EncoderCNN, VRNN\n",
    "from utils.data_loader import get_loader\n",
    "from collections import Counter\n",
    "import pickle\n",
    "from sys import path\n",
    "import matplotlib.pyplot as plt\n",
    "from torchvision import transforms\n",
    "from torch.autograd import Variable\n",
    "from torch.nn.utils.rnn import pack_padded_sequence, pad_packed_sequence, PackedSequence\n",
    "import numpy as np\n",
    "from numpy.random import random_sample\n",
    "%matplotlib inline"
   ]
  },
  {
   "cell_type": "code",
   "execution_count": 2,
   "metadata": {},
   "outputs": [
    {
     "name": "stderr",
     "output_type": "stream",
     "text": [
      "/home/AD/irehg/anaconda2/envs/update-pytorch/lib/python2.7/site-packages/torch/backends/cudnn/__init__.py:48: UserWarning: PyTorch was compiled without cuDNN support. To use cuDNN, rebuild PyTorch making sure the library is visible to the build system.\n",
      "  \"PyTorch was compiled without cuDNN support. To use cuDNN, rebuild \"\n"
     ]
    },
    {
     "name": "stdout",
     "output_type": "stream",
     "text": [
      "data/annotations/captions_train2014.json\n",
      "loading annotations into memory...\n",
      "0:00:01.120238\n",
      "creating index...\n",
      "index created!\n"
     ]
    }
   ],
   "source": [
    "with open('data/vocab.pkl', 'rb') as f:\n",
    "    vocab = pickle.load(f)\n",
    "encoder = EncoderCNN(256)\n",
    "encoder.eval()\n",
    "decoder = VRNN(256, 512, len(vocab), 512, 1)\n",
    "if torch.cuda.is_available():\n",
    "    encoder.cuda()\n",
    "    decoder.cuda()\n",
    "\n",
    "transform = transforms.Compose([\n",
    "    transforms.RandomCrop(224),\n",
    "    transforms.RandomHorizontalFlip(),\n",
    "    transforms.Resize(224),\n",
    "    transforms.ToTensor(),\n",
    "    transforms.Normalize((0.485, 0.456, 0.406),\n",
    "                         (0.229, 0.224, 0.225))\n",
    "])\n",
    "rt_image = 'data/resized2014'\n",
    "annotations = 'data/annotations/captions_train2014.json'\n",
    "batch_size = 128\n",
    "data_loader = get_loader(rt_image, annotations, vocab, transform, batch_size, True, 2)"
   ]
  },
  {
   "cell_type": "code",
   "execution_count": 3,
   "metadata": {
    "collapsed": true
   },
   "outputs": [],
   "source": [
    "def decode_caption(caption):\n",
    "    return ' '.join([vocab.idx2word[word_id] for word_id in caption.data.squeeze(0)])"
   ]
  },
  {
   "cell_type": "code",
   "execution_count": 4,
   "metadata": {
    "collapsed": true
   },
   "outputs": [],
   "source": [
    "def to_var(x, volatile=False):\n",
    "    if torch.cuda.is_available():\n",
    "        x = x.cuda()\n",
    "    return Variable(x, volatile=volatile)"
   ]
  },
  {
   "cell_type": "code",
   "execution_count": 5,
   "metadata": {
    "collapsed": true
   },
   "outputs": [],
   "source": [
    "for i, (images, captions, lengths, _, _) in enumerate(data_loader):\n",
    "    break"
   ]
  },
  {
   "cell_type": "code",
   "execution_count": 6,
   "metadata": {
    "collapsed": true
   },
   "outputs": [],
   "source": [
    "lengths = [l - 1 for l in lengths]\n",
    "images = to_var(images, volatile=True)\n",
    "captions = to_var(captions) # (1, 20(caption length))\n",
    "targets = pack_padded_sequence(captions[:,1:], lengths, batch_first=True)[0]\n",
    "decoder.zero_grad()\n",
    "encoder.zero_grad()\n",
    "features = encoder(images)"
   ]
  },
  {
   "cell_type": "code",
   "execution_count": 7,
   "metadata": {
    "collapsed": true
   },
   "outputs": [],
   "source": [
    "params = list(decoder.parameters())\n",
    "optimizer = torch.optim.Adam(params, lr=1e-3)\n",
    "def kl_div(q_mu, q_sigma, p_mu, p_sigma):\n",
    "    return torch.log(p_sigma / q_sigma) + (q_sigma**2 + (p_mu - q_mu)**2) / 2 / p_sigma**2 - 0.5"
   ]
  },
  {
   "cell_type": "code",
   "execution_count": 8,
   "metadata": {
    "collapsed": true
   },
   "outputs": [],
   "source": [
    "prior, q_z, q_x = decoder(features, captions, lengths)"
   ]
  },
  {
   "cell_type": "code",
   "execution_count": 27,
   "metadata": {},
   "outputs": [],
   "source": [
    "index = (torch.cuda.LongTensor(range(q_x.shape[0])), targets)"
   ]
  },
  {
   "cell_type": "code",
   "execution_count": 28,
   "metadata": {},
   "outputs": [
    {
     "data": {
      "text/plain": [
       "Variable containing:\n",
       "-9.3059\n",
       "-9.1137\n",
       "-9.0222\n",
       "   ⋮   \n",
       "-9.3737\n",
       "-9.1748\n",
       "-9.3439\n",
       "[torch.cuda.FloatTensor of size 1549 (GPU 0)]"
      ]
     },
     "execution_count": 28,
     "metadata": {},
     "output_type": "execute_result"
    }
   ],
   "source": [
    "q_x[index]"
   ]
  }
 ],
 "metadata": {
  "kernelspec": {
   "display_name": "Python 2",
   "language": "python",
   "name": "python2"
  },
  "language_info": {
   "codemirror_mode": {
    "name": "ipython",
    "version": 2
   },
   "file_extension": ".py",
   "mimetype": "text/x-python",
   "name": "python",
   "nbconvert_exporter": "python",
   "pygments_lexer": "ipython2",
   "version": "2.7.13"
  }
 },
 "nbformat": 4,
 "nbformat_minor": 2
}
